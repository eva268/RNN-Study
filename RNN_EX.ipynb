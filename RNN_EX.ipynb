{
 "cells": [
  {
   "cell_type": "markdown",
   "metadata": {},
   "source": [
    "# 필요한 라이브러리 임포트"
   ]
  },
  {
   "cell_type": "code",
   "execution_count": 1,
   "metadata": {},
   "outputs": [],
   "source": [
    "import torch\n",
    "import torch.nn as nn\n",
    "import torch.nn.functional as F\n",
    "from torch.utils.data import Dataset, DataLoader\n",
    "from torch.nn.utils.rnn import pad_sequence, pack_padded_sequence\n",
    "import pandas as pd"
   ]
  },
  {
   "cell_type": "markdown",
   "metadata": {},
   "source": [
    "# 전처리 함수 정의"
   ]
  },
  {
   "cell_type": "code",
   "execution_count": 2,
   "metadata": {},
   "outputs": [],
   "source": [
    "# 문자 종류 확인\n",
    "def build_vocab_from_df(df: pd.DataFrame):\n",
    "    char_vocab = set()\n",
    "    for line in df[\"msg\"]:\n",
    "        for c in line:\n",
    "            char_vocab.add(c)\n",
    "    return char_vocab"
   ]
  },
  {
   "cell_type": "code",
   "execution_count": 3,
   "metadata": {},
   "outputs": [
    {
     "name": "stdout",
     "output_type": "stream",
     "text": [
      "train: (3618, 2)\n",
      "val: (775, 2)\n",
      "test: (776, 2)\n"
     ]
    }
   ],
   "source": [
    "train = pd.read_csv(\"data/train.csv\")\n",
    "val = pd.read_csv(\"data/val.csv\")\n",
    "test = pd.read_csv(\"data/test.csv\")\n",
    "\n",
    "print(\"train:\",train.shape)\n",
    "print(\"val:\",val.shape)\n",
    "print(\"test:\",test.shape)"
   ]
  },
  {
   "cell_type": "markdown",
   "metadata": {},
   "source": [
    "### 문자 종류 갯수 확인"
   ]
  },
  {
   "cell_type": "code",
   "execution_count": 4,
   "metadata": {},
   "outputs": [
    {
     "name": "stdout",
     "output_type": "stream",
     "text": [
      "94\n",
      "[' ', '!', '\"', '#', '$', '%', '&', \"'\", '(', ')', '*', '+', ',', '-', '.', '/', '0', '1', '2', '3', '4', '5', '6', '7', '8', '9', ':', ';', '<', '=', '>', '?', '@', 'A', 'B', 'C', 'D', 'E', 'F', 'G', 'H', 'I', 'J', 'K', 'L', 'M', 'N', 'O', 'P', 'Q', 'R', 'S', 'T', 'U', 'V', 'W', 'X', 'Y', 'Z', '[', '\\\\', ']', '^', '_', 'a', 'b', 'c', 'd', 'e', 'f', 'g', 'h', 'i', 'j', 'k', 'l', 'm', 'n', 'o', 'p', 'q', 'r', 's', 't', 'u', 'v', 'w', 'x', 'y', 'z', '|', '~', '£', '…']\n",
      "88\n",
      "[' ', '!', '\"', '#', '$', '&', \"'\", '(', ')', '*', '+', ',', '-', '.', '/', '0', '1', '2', '3', '4', '5', '6', '7', '8', '9', ':', ';', '<', '=', '>', '?', '@', 'A', 'B', 'C', 'D', 'E', 'F', 'G', 'H', 'I', 'J', 'K', 'L', 'M', 'N', 'O', 'P', 'Q', 'R', 'S', 'T', 'U', 'V', 'W', 'X', 'Y', 'Z', '_', 'a', 'b', 'c', 'd', 'e', 'f', 'g', 'h', 'i', 'j', 'k', 'l', 'm', 'n', 'o', 'p', 'q', 'r', 's', 't', 'u', 'v', 'w', 'x', 'y', 'z', '|', '£', '…']\n",
      "88\n",
      "[' ', '!', '\"', '#', '$', '%', '&', \"'\", '(', ')', '*', '+', ',', '-', '.', '/', '0', '1', '2', '3', '4', '5', '6', '7', '8', '9', ':', ';', '<', '=', '>', '?', '@', 'A', 'B', 'C', 'D', 'E', 'F', 'G', 'H', 'I', 'J', 'K', 'L', 'M', 'N', 'O', 'P', 'Q', 'R', 'S', 'T', 'U', 'V', 'W', 'X', 'Y', 'Z', 'a', 'b', 'c', 'd', 'e', 'f', 'g', 'h', 'i', 'j', 'k', 'l', 'm', 'n', 'o', 'p', 'q', 'r', 's', 't', 'u', 'v', 'w', 'x', 'y', 'z', '|', '£', '…']\n",
      "set()\n",
      "set()\n"
     ]
    }
   ],
   "source": [
    "train_vocab = build_vocab_from_df(train)\n",
    "val_vocab = build_vocab_from_df(val)\n",
    "test_vocab = build_vocab_from_df(test)\n",
    "print(len(train_vocab))\n",
    "print(sorted(train_vocab))\n",
    "print(len(val_vocab))\n",
    "print(sorted(val_vocab))\n",
    "print(len(test_vocab))\n",
    "print(sorted(test_vocab))\n",
    "\n",
    "print(set(test_vocab) - set(train_vocab))\n",
    "print(set(val_vocab) - set(train_vocab))"
   ]
  },
  {
   "cell_type": "markdown",
   "metadata": {},
   "source": [
    "## vocab 생성"
   ]
  },
  {
   "cell_type": "code",
   "execution_count": 5,
   "metadata": {},
   "outputs": [
    {
     "name": "stdout",
     "output_type": "stream",
     "text": [
      "{0: 'pad', 1: 'unk', 2: 'S', 3: 'z', 4: 'b', 5: 'C', 6: 'W', 7: 'E', 8: '#', 9: '%', 10: '7', 11: 't', 12: 'F', 13: '$', 14: '9', 15: 'U', 16: 'R', 17: 'h', 18: '^', 19: '<', 20: '&', 21: 'M', 22: 'l', 23: 'o', 24: 'A', 25: '\\\\', 26: '(', 27: '~', 28: ']', 29: ':', 30: 'D', 31: '*', 32: 'x', 33: 'j', 34: 'K', 35: 'p', 36: 'e', 37: 'q', 38: '5', 39: 'X', 40: 'V', 41: 'u', 42: 'm', 43: '1', 44: '3', 45: 'T', 46: '0', 47: 'J', 48: 'a', 49: 'I', 50: ',', 51: '/', 52: ')', 53: 's', 54: '4', 55: '£', 56: 'y', 57: 'r', 58: 'H', 59: 'O', 60: '…', 61: 'Z', 62: '>', 63: \"'\", 64: 'f', 65: 'w', 66: '@', 67: ';', 68: '8', 69: 'c', 70: 'G', 71: '.', 72: 'P', 73: '[', 74: 'n', 75: '\"', 76: 'Y', 77: 'g', 78: '2', 79: '!', 80: '-', 81: 'B', 82: '|', 83: ' ', 84: 'N', 85: 'Q', 86: 'v', 87: '_', 88: 'd', 89: 'L', 90: 'i', 91: 'k', 92: '+', 93: '?', 94: '=', 95: '6'}\n",
      "vocab size: 96\n"
     ]
    }
   ],
   "source": [
    "char2idx = dict()\n",
    "char2idx[\"pad\"] = 0\n",
    "char2idx[\"unk\"] = 1\n",
    "for index, char in enumerate(train_vocab):\n",
    "    char2idx[char] = index + 2\n",
    "\n",
    "idx2char = {value: key for key, value in char2idx.items()}\n",
    "print(idx2char)\n",
    "print(\"vocab size:\", len(char2idx))"
   ]
  },
  {
   "cell_type": "code",
   "execution_count": 6,
   "metadata": {},
   "outputs": [
    {
     "name": "stdout",
     "output_type": "stream",
     "text": [
      "199\n"
     ]
    }
   ],
   "source": [
    "seq_len = train[\"msg\"].str.len().max()\n",
    "input_length = len(char2idx)\n",
    "print(seq_len)"
   ]
  },
  {
   "cell_type": "markdown",
   "metadata": {},
   "source": [
    "# 커스텀 데이터셋 정의"
   ]
  },
  {
   "cell_type": "code",
   "execution_count": 7,
   "metadata": {},
   "outputs": [],
   "source": [
    "class MyDataset(Dataset):\n",
    "    def __init__(self, data=train):\n",
    "        self.data = data\n",
    "\n",
    "    def __len__(self):\n",
    "        return self.data.shape[0]\n",
    "\n",
    "    def __getitem__(self, idx):\n",
    "        x = self.data[\"msg\"][idx]\n",
    "        y = self.data[\"label\"][idx]\n",
    "\n",
    "        return x, y"
   ]
  },
  {
   "cell_type": "markdown",
   "metadata": {},
   "source": [
    "# 토크나이저 정의"
   ]
  },
  {
   "cell_type": "code",
   "execution_count": 8,
   "metadata": {},
   "outputs": [],
   "source": [
    "def tokenize(string: str):\n",
    "    x_data = [char2idx[c] for c in string]\n",
    "    return torch.tensor(x_data)"
   ]
  },
  {
   "cell_type": "markdown",
   "metadata": {},
   "source": [
    "# Collate function 정의"
   ]
  },
  {
   "cell_type": "code",
   "execution_count": 9,
   "metadata": {},
   "outputs": [],
   "source": [
    "def collate_fn(samples):\n",
    "    x = [i[0] for i in samples]\n",
    "    x = [tokenize(i) for i in x]\n",
    "    x = pad_sequence(x, batch_first=True)\n",
    "    \n",
    "    y = [i[1] for i in samples]\n",
    "    y = torch.tensor(y, dtype=torch.float32)\n",
    "\n",
    "    return x, y"
   ]
  },
  {
   "cell_type": "markdown",
   "metadata": {},
   "source": [
    "# RNN Cell과 모델 정의"
   ]
  },
  {
   "cell_type": "code",
   "execution_count": 10,
   "metadata": {},
   "outputs": [],
   "source": [
    "class RNNCell_Encoder(nn.Module):\n",
    "    def __init__(self, input_dim, hidden_size):\n",
    "        super(RNNCell_Encoder, self).__init__()\n",
    "\n",
    "        self.input_dim = input_dim\n",
    "        self.hidden_size = hidden_size\n",
    "\n",
    "        self.rnn = nn.RNNCell(input_dim, hidden_size)\n",
    "\n",
    "    def forward(self, input):\n",
    "        batch_size = input.size(0)\n",
    "        ht = torch.zeros(batch_size, self.hidden_size)\n",
    "        input = input.transpose(0, 1)\n",
    "        for character in input:\n",
    "            ht = self.rnn(character, ht)\n",
    "        return ht\n",
    "\n",
    "class Net(nn.Module):\n",
    "    def __init__(self, embedding_dim, hidden_size):\n",
    "        super(Net, self).__init__()\n",
    "\n",
    "        self.em = nn.Embedding(len(char2idx), embedding_dim, padding_idx=0)  # 임베딩\n",
    "        self.rnn = RNNCell_Encoder(embedding_dim, hidden_size)\n",
    "        self.fc1 = nn.Linear(hidden_size, 10)\n",
    "        self.fc2 = nn.Linear(10, 1)\n",
    "\n",
    "    def forward(self, x):\n",
    "        x = self.em(x)\n",
    "        x = self.rnn(x)\n",
    "        x = F.relu(self.fc1(x))\n",
    "        x = F.sigmoid(self.fc2(x))\n",
    "        return x"
   ]
  },
  {
   "cell_type": "markdown",
   "metadata": {},
   "source": [
    "# 훈련"
   ]
  },
  {
   "cell_type": "code",
   "execution_count": 11,
   "metadata": {},
   "outputs": [],
   "source": [
    "def training(epoch, model, loss_fn, optimizer, trainloader, valloader):\n",
    "    correct = 0\n",
    "    total = 0\n",
    "    running_loss = 0\n",
    "    flag = 1\n",
    "\n",
    "    model.train()\n",
    "\n",
    "    for x, y in trainloader:\n",
    "        optimizer.zero_grad()\n",
    "        y_pred = model(x)\n",
    "        y = y.unsqueeze(1)\n",
    "        loss = loss_fn(y_pred, y)\n",
    "        loss.backward()\n",
    "        optimizer.step()\n",
    "\n",
    "        with torch.no_grad():\n",
    "            y_pred = (y_pred > 0.5).float()\n",
    "            correct += (y_pred == y).sum().item()\n",
    "            total += y.size(0)\n",
    "            running_loss += loss.item()\n",
    "\n",
    "            # break        \n",
    "\n",
    "    epoch_loss = running_loss / len(trainloader)\n",
    "    epoch_acc = correct / total\n",
    "\n",
    "    val_correct = 0\n",
    "    val_total = 0\n",
    "    val_running_loss = 0\n",
    "\n",
    "    model.eval()\n",
    "    with torch.no_grad():\n",
    "        for x, y in valloader:\n",
    "            y_pred = model(x)\n",
    "            y = y.unsqueeze(1)\n",
    "            loss = loss_fn(y_pred, y)\n",
    "            y_pred = (y_pred > 0.5).float()\n",
    "            val_correct += (y_pred == y).sum().item()\n",
    "            val_total += y.size(0)\n",
    "            val_running_loss += loss.item()\n",
    "\n",
    "    epoch_val_loss = val_running_loss / len(valloader)\n",
    "    epoch_val_acc = val_correct / val_total\n",
    "\n",
    "    print(f\"train_loss :{epoch_loss:.6f} train_acc :{epoch_acc:.6f} val_loss :{epoch_val_loss:.6f} val_acc :{epoch_val_acc:.6f}\")\n",
    "\n",
    "    return epoch_loss, epoch_acc, epoch_val_loss, epoch_val_acc"
   ]
  },
  {
   "cell_type": "markdown",
   "metadata": {},
   "source": [
    "# 하이퍼파라미터 정의"
   ]
  },
  {
   "cell_type": "code",
   "execution_count": 17,
   "metadata": {},
   "outputs": [],
   "source": [
    "model = Net(2, 80)\n",
    "\n",
    "loss_fn = nn.BCELoss()\n",
    "optimizer = torch.optim.Adam(model.parameters(), lr=0.001)"
   ]
  },
  {
   "cell_type": "code",
   "execution_count": 18,
   "metadata": {},
   "outputs": [
    {
     "name": "stdout",
     "output_type": "stream",
     "text": [
      "train_loss :0.666946 train_acc :0.662797 val_loss :0.601294 val_acc :0.873548\n",
      "epoch 0 finished in 2.51 seconds\n",
      "train_loss :0.507780 train_acc :0.873687 val_loss :0.414185 val_acc :0.873548\n",
      "epoch 1 finished in 2.23 seconds\n",
      "train_loss :0.376004 train_acc :0.873687 val_loss :0.414449 val_acc :0.873548\n",
      "epoch 2 finished in 1.81 seconds\n",
      "train_loss :0.388312 train_acc :0.873687 val_loss :0.367531 val_acc :0.873548\n",
      "epoch 3 finished in 1.37 seconds\n",
      "train_loss :0.394301 train_acc :0.873687 val_loss :0.419987 val_acc :0.873548\n",
      "epoch 4 finished in 1.33 seconds\n",
      "train_loss :0.390213 train_acc :0.873687 val_loss :0.401020 val_acc :0.873548\n",
      "epoch 5 finished in 1.31 seconds\n",
      "train_loss :0.368630 train_acc :0.873687 val_loss :0.417593 val_acc :0.873548\n",
      "epoch 6 finished in 1.33 seconds\n",
      "train_loss :0.356692 train_acc :0.873687 val_loss :0.362745 val_acc :0.873548\n",
      "epoch 7 finished in 1.30 seconds\n",
      "train_loss :0.386378 train_acc :0.873687 val_loss :0.363101 val_acc :0.873548\n",
      "epoch 8 finished in 1.31 seconds\n",
      "train_loss :0.364915 train_acc :0.873687 val_loss :0.381799 val_acc :0.873548\n",
      "epoch 9 finished in 1.31 seconds\n",
      "train_loss :0.397371 train_acc :0.873687 val_loss :0.362974 val_acc :0.873548\n",
      "epoch 10 finished in 1.32 seconds\n",
      "train_loss :0.371620 train_acc :0.873687 val_loss :0.364068 val_acc :0.873548\n",
      "epoch 11 finished in 1.31 seconds\n",
      "train_loss :0.397661 train_acc :0.873687 val_loss :0.362807 val_acc :0.873548\n",
      "epoch 12 finished in 1.31 seconds\n",
      "train_loss :0.383968 train_acc :0.873687 val_loss :0.381765 val_acc :0.873548\n",
      "epoch 13 finished in 1.33 seconds\n",
      "train_loss :0.390522 train_acc :0.873687 val_loss :0.363312 val_acc :0.873548\n",
      "epoch 14 finished in 1.31 seconds\n",
      "train_loss :0.377855 train_acc :0.873687 val_loss :0.363466 val_acc :0.873548\n",
      "epoch 15 finished in 1.29 seconds\n",
      "train_loss :0.377387 train_acc :0.873687 val_loss :0.401173 val_acc :0.873548\n",
      "epoch 16 finished in 1.31 seconds\n",
      "train_loss :0.398155 train_acc :0.873687 val_loss :0.381768 val_acc :0.873548\n",
      "epoch 17 finished in 1.34 seconds\n",
      "train_loss :0.377568 train_acc :0.873687 val_loss :0.382195 val_acc :0.873548\n",
      "epoch 18 finished in 1.34 seconds\n",
      "train_loss :0.377820 train_acc :0.873687 val_loss :0.419136 val_acc :0.873548\n",
      "epoch 19 finished in 1.33 seconds\n",
      "train_loss :0.370632 train_acc :0.873687 val_loss :0.401140 val_acc :0.873548\n",
      "epoch 20 finished in 1.35 seconds\n",
      "train_loss :0.405240 train_acc :0.873687 val_loss :0.401146 val_acc :0.873548\n",
      "epoch 21 finished in 1.37 seconds\n",
      "train_loss :0.377879 train_acc :0.873687 val_loss :0.417837 val_acc :0.873548\n",
      "epoch 22 finished in 1.37 seconds\n",
      "train_loss :0.384455 train_acc :0.873687 val_loss :0.381765 val_acc :0.873548\n",
      "epoch 23 finished in 1.36 seconds\n",
      "train_loss :0.370697 train_acc :0.873687 val_loss :0.381843 val_acc :0.873548\n",
      "epoch 24 finished in 1.37 seconds\n",
      "train_loss :0.370655 train_acc :0.873687 val_loss :0.362506 val_acc :0.873548\n",
      "epoch 25 finished in 1.38 seconds\n",
      "train_loss :0.377546 train_acc :0.873687 val_loss :0.362615 val_acc :0.873548\n",
      "epoch 26 finished in 1.38 seconds\n",
      "train_loss :0.397534 train_acc :0.873687 val_loss :0.381731 val_acc :0.873548\n",
      "epoch 27 finished in 1.43 seconds\n",
      "train_loss :0.378193 train_acc :0.873687 val_loss :0.364365 val_acc :0.873548\n",
      "epoch 28 finished in 1.41 seconds\n",
      "train_loss :0.370977 train_acc :0.873687 val_loss :0.381808 val_acc :0.873548\n",
      "epoch 29 finished in 1.36 seconds\n",
      "train_loss :0.392123 train_acc :0.873687 val_loss :0.362478 val_acc :0.873548\n",
      "epoch 30 finished in 1.38 seconds\n",
      "train_loss :0.390379 train_acc :0.873687 val_loss :0.382167 val_acc :0.873548\n",
      "epoch 31 finished in 1.38 seconds\n",
      "train_loss :0.390678 train_acc :0.873687 val_loss :0.382301 val_acc :0.873548\n",
      "epoch 32 finished in 1.40 seconds\n",
      "train_loss :0.371285 train_acc :0.873687 val_loss :0.381699 val_acc :0.873548\n",
      "epoch 33 finished in 1.44 seconds\n",
      "train_loss :0.363697 train_acc :0.873687 val_loss :0.402211 val_acc :0.873548\n",
      "epoch 34 finished in 1.41 seconds\n",
      "train_loss :0.370980 train_acc :0.873687 val_loss :0.362549 val_acc :0.873548\n",
      "epoch 35 finished in 1.42 seconds\n",
      "train_loss :0.384360 train_acc :0.873687 val_loss :0.362838 val_acc :0.873548\n",
      "epoch 36 finished in 1.47 seconds\n",
      "train_loss :0.390438 train_acc :0.873687 val_loss :0.363917 val_acc :0.873548\n",
      "epoch 37 finished in 1.48 seconds\n",
      "train_loss :0.371366 train_acc :0.873687 val_loss :0.381837 val_acc :0.873548\n",
      "epoch 38 finished in 1.41 seconds\n",
      "train_loss :0.398023 train_acc :0.873687 val_loss :0.381857 val_acc :0.873548\n",
      "epoch 39 finished in 1.39 seconds\n",
      "train_loss :0.377599 train_acc :0.873687 val_loss :0.363698 val_acc :0.873548\n",
      "epoch 40 finished in 1.44 seconds\n",
      "train_loss :0.364369 train_acc :0.873687 val_loss :0.381794 val_acc :0.873548\n",
      "epoch 41 finished in 1.45 seconds\n",
      "train_loss :0.377777 train_acc :0.873687 val_loss :0.362569 val_acc :0.873548\n",
      "epoch 42 finished in 1.50 seconds\n",
      "train_loss :0.384411 train_acc :0.873687 val_loss :0.362859 val_acc :0.873548\n",
      "epoch 43 finished in 1.48 seconds\n",
      "train_loss :0.390703 train_acc :0.873687 val_loss :0.382116 val_acc :0.873548\n",
      "epoch 44 finished in 1.47 seconds\n",
      "train_loss :0.390834 train_acc :0.873687 val_loss :0.363372 val_acc :0.873548\n",
      "epoch 45 finished in 1.47 seconds\n",
      "train_loss :0.371105 train_acc :0.873687 val_loss :0.400491 val_acc :0.873548\n",
      "epoch 46 finished in 1.40 seconds\n",
      "train_loss :0.384015 train_acc :0.873687 val_loss :0.381956 val_acc :0.873548\n",
      "epoch 47 finished in 1.43 seconds\n",
      "train_loss :0.390909 train_acc :0.873687 val_loss :0.381752 val_acc :0.873548\n",
      "epoch 48 finished in 1.42 seconds\n",
      "train_loss :0.377548 train_acc :0.873687 val_loss :0.363510 val_acc :0.873548\n",
      "epoch 49 finished in 1.47 seconds\n",
      "train_loss :0.389730      train_acc :0.869469        val_loss :0.385422        val_acc :0.873548\n",
      "training finished in 71.48 seconds\n"
     ]
    }
   ],
   "source": [
    "import time\n",
    "\n",
    "train_ds = MyDataset(train)\n",
    "val_ds = MyDataset(val)\n",
    "\n",
    "epochs = 50\n",
    "train_loss = []\n",
    "train_acc = []\n",
    "val_loss = []\n",
    "val_acc = []\n",
    "\n",
    "start = time.time()\n",
    "for epoch in range(epochs):\n",
    "    epoch_start = time.time()\n",
    "\n",
    "    train_iterator = iter(\n",
    "        DataLoader(train_ds, batch_size=512, shuffle=True, collate_fn=collate_fn)\n",
    "    )\n",
    "    val_iterator = iter(\n",
    "        DataLoader(val_ds, batch_size=64, shuffle=True, collate_fn=collate_fn)\n",
    "    )\n",
    "\n",
    "    epoch_loss, epoch_acc, epoch_val_loss, epoch_val_acc = training(\n",
    "        epoch, model, loss_fn, optimizer, train_iterator, val_iterator\n",
    "    )\n",
    "\n",
    "    train_loss.append(epoch_loss)\n",
    "    train_acc.append(epoch_acc)\n",
    "    val_loss.append(epoch_val_loss)\n",
    "    val_acc.append(epoch_val_acc)\n",
    "\n",
    "    epoch_end = time.time()\n",
    "    print(f\"epoch {epoch} finished in {epoch_end-epoch_start:.2f} seconds\")\n",
    "\n",
    "end = time.time()\n",
    "print(f\"train_loss :{sum(train_loss)/epochs:.6f}\\\n",
    "      train_acc :{sum(train_acc)/epochs:.6f}\\\n",
    "        val_loss :{sum(val_loss)/epochs:.6f}\\\n",
    "        val_acc :{sum(val_acc)/epochs:.6f}\")\n",
    "\n",
    "print(f\"training finished in {end-start:.2f} seconds\")"
   ]
  },
  {
   "cell_type": "code",
   "execution_count": 29,
   "metadata": {},
   "outputs": [],
   "source": [
    "import matplotlib.pyplot as plt\n",
    "def plot_metrics(train_acc, train_loss, val_acc, val_loss):\n",
    "    epochs = range(1, len(train_acc) + 1)\n",
    "\n",
    "    # Plotting accuracy\n",
    "    plt.figure(figsize=(8, 8))\n",
    "    plt.subplot(2, 1, 1)\n",
    "    plt.plot(epochs, train_acc, 'bo-', label='Training Accuracy')\n",
    "    plt.plot(epochs, val_acc, 'ro-', label='Validation Accuracy')\n",
    "    plt.title('Training and Validation Accuracy')\n",
    "    plt.xlabel('Epochs')\n",
    "    plt.ylabel('Accuracy')\n",
    "    plt.legend()\n",
    "\n",
    "    # Plotting loss\n",
    "    plt.subplot(2, 1, 2)\n",
    "    plt.plot(epochs, train_loss, 'bo-', label='Training Loss')\n",
    "    plt.plot(epochs, val_loss, 'ro-', label='Validation Loss')\n",
    "    plt.title('Training and Validation Loss')\n",
    "    plt.xlabel('Epochs')\n",
    "    plt.ylabel('Loss')\n",
    "    plt.legend()\n",
    "\n",
    "    plt.tight_layout()\n",
    "    plt.show()"
   ]
  },
  {
   "cell_type": "code",
   "execution_count": 30,
   "metadata": {},
   "outputs": [
    {
     "data": {
      "image/png": "[encoded data removed]",
      "text/plain": [
       "<Figure size 800x800 with 2 Axes>"
      ]
     },
     "metadata": {},
     "output_type": "display_data"
    }
   ],
   "source": [
    "plot_metrics(train_acc, train_loss, val_acc, val_loss)"
   ]
  },
  {
   "cell_type": "markdown",
   "metadata": {},
   "source": [
    "# 테스트"
   ]
  },
  {
   "cell_type": "code",
   "execution_count": null,
   "metadata": {},
   "outputs": [
    {
     "name": "stdout",
     "output_type": "stream",
     "text": [
      "test loss: 0.3907663506957201      test accuracy: 0.8737113402061856\n"
     ]
    }
   ],
   "source": [
    "test_ds = MyDataset(test)\n",
    "test_iterator = iter(DataLoader(test_ds, batch_size=10, collate_fn=collate_fn))\n",
    "\n",
    "test_correct = 0\n",
    "test_total = 0\n",
    "test_loss = 0\n",
    "\n",
    "model.eval()\n",
    "with torch.no_grad():\n",
    "    for x, y in test_iterator:\n",
    "        y_pred = model(x)\n",
    "        y = y.unsqueeze(1)\n",
    "        loss = loss_fn(y_pred, y)\n",
    "    \n",
    "        y_pred = (y_pred > 0.5).float()\n",
    "        test_correct += (y_pred == y).sum().item()\n",
    "        test_total += y.size(0)\n",
    "        test_loss += loss.item()\n",
    "\n",
    "test_loss = test_loss / len(test_iterator)\n",
    "test_acc = test_correct / test_total\n",
    "print(f'test loss: {test_loss}\\\n",
    "      test accuracy: {test_acc}')"
   ]
  },
  {
   "cell_type": "markdown",
   "metadata": {},
   "source": [
    "# 결과 해석"
   ]
  },
  {
   "cell_type": "code",
   "execution_count": null,
   "metadata": {},
   "outputs": [
    {
     "data": {
      "text/plain": [
       "0.8737113402061856"
      ]
     },
     "execution_count": 399,
     "metadata": {},
     "output_type": "execute_result"
    }
   ],
   "source": [
    "(test[\"label\"] == 0).sum() / test.shape[0]"
   ]
  },
  {
   "cell_type": "markdown",
   "metadata": {},
   "source": [
    "모든 데이터포인트에 대해 ham을 예측했다. \n",
    "이는 문자 레벨 토큰화로 인해 너무 길어진 시퀀스 길이가 문제일 것으로 생각한다."
   ]
  }
 ],
 "metadata": {
  "kernelspec": {
   "display_name": "base",
   "language": "python",
   "name": "python3"
  },
  "language_info": {
   "codemirror_mode": {
    "name": "ipython",
    "version": 3
   },
   "file_extension": ".py",
   "mimetype": "text/x-python",
   "name": "python",
   "nbconvert_exporter": "python",
   "pygments_lexer": "ipython3",
   "version": "3.9.13"
  }
 },
 "nbformat": 4,
 "nbformat_minor": 2
}
